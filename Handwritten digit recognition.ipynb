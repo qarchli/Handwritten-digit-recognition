{
 "cells": [
  {
   "cell_type": "markdown",
   "metadata": {},
   "source": [
    "## Imports"
   ]
  },
  {
   "cell_type": "code",
   "execution_count": 1,
   "metadata": {
    "ExecuteTime": {
     "end_time": "2018-12-30T18:14:38.077335Z",
     "start_time": "2018-12-30T18:14:37.446755Z"
    }
   },
   "outputs": [],
   "source": [
    "import matplotlib.pyplot as plt\n",
    "import numpy as np\n",
    "import pandas as pd\n",
    "import seaborn as sns\n",
    "from scipy.io import loadmat  # SciPy module to load .mat files\n",
    "\n",
    "sns.set_style('darkgrid')"
   ]
  },
  {
   "cell_type": "markdown",
   "metadata": {},
   "source": [
    "## Loading MNIST dataset"
   ]
  },
  {
   "cell_type": "code",
   "execution_count": 2,
   "metadata": {
    "ExecuteTime": {
     "end_time": "2018-12-30T18:14:40.514262Z",
     "start_time": "2018-12-30T18:14:40.475994Z"
    }
   },
   "outputs": [],
   "source": [
    "mnist = loadmat('mnist-dataset/mnist-original.mat')"
   ]
  },
  {
   "cell_type": "code",
   "execution_count": 3,
   "metadata": {
    "ExecuteTime": {
     "end_time": "2018-12-30T18:14:41.159597Z",
     "start_time": "2018-12-30T18:14:41.147684Z"
    }
   },
   "outputs": [
    {
     "data": {
      "text/plain": [
       "(784, 70000)"
      ]
     },
     "execution_count": 3,
     "metadata": {},
     "output_type": "execute_result"
    }
   ],
   "source": [
    "# A sample of size 70.000 of 28x28 = 784pixels grayscale images\n",
    "mnist['data'].shape"
   ]
  },
  {
   "cell_type": "code",
   "execution_count": 4,
   "metadata": {
    "ExecuteTime": {
     "end_time": "2018-12-30T18:14:41.896202Z",
     "start_time": "2018-12-30T18:14:41.888799Z"
    }
   },
   "outputs": [
    {
     "data": {
      "text/plain": [
       "(1, 70000)"
      ]
     },
     "execution_count": 4,
     "metadata": {},
     "output_type": "execute_result"
    }
   ],
   "source": [
    "# Labels corresponding to each image\n",
    "mnist['label'].shape"
   ]
  },
  {
   "cell_type": "code",
   "execution_count": 5,
   "metadata": {
    "ExecuteTime": {
     "end_time": "2018-12-30T18:14:42.759254Z",
     "start_time": "2018-12-30T18:14:42.749747Z"
    }
   },
   "outputs": [],
   "source": [
    "# Combining data and label in one dataframe\n",
    "nb_pixels = mnist['data'].shape[0]\n",
    "nb_images = mnist['data'].shape[1]\n",
    "\n",
    "mnist_dataset = pd.DataFrame(mnist['data'].T)\n",
    "mnist_dataset.columns = ['x_{index}'.format(index=i) for i in range(nb_pixels)]\n",
    "mnist_dataset['label'] = mnist['label'].T.astype(int)"
   ]
  },
  {
   "cell_type": "code",
   "execution_count": 6,
   "metadata": {
    "ExecuteTime": {
     "end_time": "2018-12-30T18:14:43.812646Z",
     "start_time": "2018-12-30T18:14:43.787411Z"
    }
   },
   "outputs": [
    {
     "data": {
      "text/html": [
       "<div>\n",
       "<style scoped>\n",
       "    .dataframe tbody tr th:only-of-type {\n",
       "        vertical-align: middle;\n",
       "    }\n",
       "\n",
       "    .dataframe tbody tr th {\n",
       "        vertical-align: top;\n",
       "    }\n",
       "\n",
       "    .dataframe thead th {\n",
       "        text-align: right;\n",
       "    }\n",
       "</style>\n",
       "<table border=\"1\" class=\"dataframe\">\n",
       "  <thead>\n",
       "    <tr style=\"text-align: right;\">\n",
       "      <th></th>\n",
       "      <th>x_0</th>\n",
       "      <th>x_1</th>\n",
       "      <th>x_2</th>\n",
       "      <th>x_3</th>\n",
       "      <th>x_4</th>\n",
       "      <th>x_5</th>\n",
       "      <th>x_6</th>\n",
       "      <th>x_7</th>\n",
       "      <th>x_8</th>\n",
       "      <th>x_9</th>\n",
       "      <th>...</th>\n",
       "      <th>x_775</th>\n",
       "      <th>x_776</th>\n",
       "      <th>x_777</th>\n",
       "      <th>x_778</th>\n",
       "      <th>x_779</th>\n",
       "      <th>x_780</th>\n",
       "      <th>x_781</th>\n",
       "      <th>x_782</th>\n",
       "      <th>x_783</th>\n",
       "      <th>label</th>\n",
       "    </tr>\n",
       "  </thead>\n",
       "  <tbody>\n",
       "    <tr>\n",
       "      <th>0</th>\n",
       "      <td>0</td>\n",
       "      <td>0</td>\n",
       "      <td>0</td>\n",
       "      <td>0</td>\n",
       "      <td>0</td>\n",
       "      <td>0</td>\n",
       "      <td>0</td>\n",
       "      <td>0</td>\n",
       "      <td>0</td>\n",
       "      <td>0</td>\n",
       "      <td>...</td>\n",
       "      <td>0</td>\n",
       "      <td>0</td>\n",
       "      <td>0</td>\n",
       "      <td>0</td>\n",
       "      <td>0</td>\n",
       "      <td>0</td>\n",
       "      <td>0</td>\n",
       "      <td>0</td>\n",
       "      <td>0</td>\n",
       "      <td>0</td>\n",
       "    </tr>\n",
       "    <tr>\n",
       "      <th>1</th>\n",
       "      <td>0</td>\n",
       "      <td>0</td>\n",
       "      <td>0</td>\n",
       "      <td>0</td>\n",
       "      <td>0</td>\n",
       "      <td>0</td>\n",
       "      <td>0</td>\n",
       "      <td>0</td>\n",
       "      <td>0</td>\n",
       "      <td>0</td>\n",
       "      <td>...</td>\n",
       "      <td>0</td>\n",
       "      <td>0</td>\n",
       "      <td>0</td>\n",
       "      <td>0</td>\n",
       "      <td>0</td>\n",
       "      <td>0</td>\n",
       "      <td>0</td>\n",
       "      <td>0</td>\n",
       "      <td>0</td>\n",
       "      <td>0</td>\n",
       "    </tr>\n",
       "    <tr>\n",
       "      <th>2</th>\n",
       "      <td>0</td>\n",
       "      <td>0</td>\n",
       "      <td>0</td>\n",
       "      <td>0</td>\n",
       "      <td>0</td>\n",
       "      <td>0</td>\n",
       "      <td>0</td>\n",
       "      <td>0</td>\n",
       "      <td>0</td>\n",
       "      <td>0</td>\n",
       "      <td>...</td>\n",
       "      <td>0</td>\n",
       "      <td>0</td>\n",
       "      <td>0</td>\n",
       "      <td>0</td>\n",
       "      <td>0</td>\n",
       "      <td>0</td>\n",
       "      <td>0</td>\n",
       "      <td>0</td>\n",
       "      <td>0</td>\n",
       "      <td>0</td>\n",
       "    </tr>\n",
       "    <tr>\n",
       "      <th>3</th>\n",
       "      <td>0</td>\n",
       "      <td>0</td>\n",
       "      <td>0</td>\n",
       "      <td>0</td>\n",
       "      <td>0</td>\n",
       "      <td>0</td>\n",
       "      <td>0</td>\n",
       "      <td>0</td>\n",
       "      <td>0</td>\n",
       "      <td>0</td>\n",
       "      <td>...</td>\n",
       "      <td>0</td>\n",
       "      <td>0</td>\n",
       "      <td>0</td>\n",
       "      <td>0</td>\n",
       "      <td>0</td>\n",
       "      <td>0</td>\n",
       "      <td>0</td>\n",
       "      <td>0</td>\n",
       "      <td>0</td>\n",
       "      <td>0</td>\n",
       "    </tr>\n",
       "    <tr>\n",
       "      <th>4</th>\n",
       "      <td>0</td>\n",
       "      <td>0</td>\n",
       "      <td>0</td>\n",
       "      <td>0</td>\n",
       "      <td>0</td>\n",
       "      <td>0</td>\n",
       "      <td>0</td>\n",
       "      <td>0</td>\n",
       "      <td>0</td>\n",
       "      <td>0</td>\n",
       "      <td>...</td>\n",
       "      <td>0</td>\n",
       "      <td>0</td>\n",
       "      <td>0</td>\n",
       "      <td>0</td>\n",
       "      <td>0</td>\n",
       "      <td>0</td>\n",
       "      <td>0</td>\n",
       "      <td>0</td>\n",
       "      <td>0</td>\n",
       "      <td>0</td>\n",
       "    </tr>\n",
       "  </tbody>\n",
       "</table>\n",
       "<p>5 rows × 785 columns</p>\n",
       "</div>"
      ],
      "text/plain": [
       "   x_0  x_1  x_2  x_3  x_4  x_5  x_6  x_7  x_8  x_9  ...    x_775  x_776  \\\n",
       "0    0    0    0    0    0    0    0    0    0    0  ...        0      0   \n",
       "1    0    0    0    0    0    0    0    0    0    0  ...        0      0   \n",
       "2    0    0    0    0    0    0    0    0    0    0  ...        0      0   \n",
       "3    0    0    0    0    0    0    0    0    0    0  ...        0      0   \n",
       "4    0    0    0    0    0    0    0    0    0    0  ...        0      0   \n",
       "\n",
       "   x_777  x_778  x_779  x_780  x_781  x_782  x_783  label  \n",
       "0      0      0      0      0      0      0      0      0  \n",
       "1      0      0      0      0      0      0      0      0  \n",
       "2      0      0      0      0      0      0      0      0  \n",
       "3      0      0      0      0      0      0      0      0  \n",
       "4      0      0      0      0      0      0      0      0  \n",
       "\n",
       "[5 rows x 785 columns]"
      ]
     },
     "execution_count": 6,
     "metadata": {},
     "output_type": "execute_result"
    }
   ],
   "source": [
    "mnist_dataset.head()"
   ]
  },
  {
   "cell_type": "code",
   "execution_count": 7,
   "metadata": {
    "ExecuteTime": {
     "end_time": "2018-12-30T18:14:44.789194Z",
     "start_time": "2018-12-30T18:14:44.519718Z"
    }
   },
   "outputs": [
    {
     "data": {
      "image/png": "[encoded data removed]",
      "text/plain": [
       "<Figure size 720x720 with 1 Axes>"
      ]
     },
     "metadata": {
      "needs_background": "light"
     },
     "output_type": "display_data"
    }
   ],
   "source": [
    "plt.rcParams['figure.figsize'] = (10, 10)\n",
    "mnist_dataset['label'].value_counts().sort_index().plot(kind='bar')\n",
    "plt.title('Distribution of labels')\n",
    "plt.xlabel('Label')\n",
    "plt.ylabel('# of occurences')\n",
    "plt.show()"
   ]
  },
  {
   "cell_type": "markdown",
   "metadata": {},
   "source": [
    "### Selecting a sample of size = 10000 to work on"
   ]
  },
  {
   "cell_type": "code",
   "execution_count": 8,
   "metadata": {
    "ExecuteTime": {
     "end_time": "2018-12-30T18:14:51.448532Z",
     "start_time": "2018-12-30T18:14:51.431050Z"
    }
   },
   "outputs": [],
   "source": [
    "sample_size = 10000\n",
    "mnist_dataset_sample = mnist_dataset.sample(n=sample_size, random_state=123)"
   ]
  },
  {
   "cell_type": "code",
   "execution_count": 9,
   "metadata": {
    "ExecuteTime": {
     "end_time": "2018-12-30T18:14:52.187651Z",
     "start_time": "2018-12-30T18:14:52.158091Z"
    }
   },
   "outputs": [],
   "source": [
    "data = mnist_dataset_sample.drop('label', 1)\n",
    "label = mnist_dataset_sample['label']"
   ]
  },
  {
   "cell_type": "markdown",
   "metadata": {},
   "source": [
    "## Data visualization"
   ]
  },
  {
   "cell_type": "code",
   "execution_count": 10,
   "metadata": {
    "ExecuteTime": {
     "end_time": "2018-12-30T18:14:53.649465Z",
     "start_time": "2018-12-30T18:14:53.643288Z"
    }
   },
   "outputs": [],
   "source": [
    "def plot_data(data, label, title='Label', size=12):\n",
    "    plt.rcParams['figure.constrained_layout.use'] = True\n",
    "    dataset_size = data.shape[0]\n",
    "    label = pd.Series(label)\n",
    "    # Converting and reshaping each row of the dataset as a 28x28 image to have a plottable array\n",
    "    images = [\n",
    "        data.iloc[i, :].values.reshape(28, 28) for i in range(dataset_size)\n",
    "    ]\n",
    "\n",
    "    # Selecting a random sample of size=12(by default) from the dataset\n",
    "    select = np.random.randint(dataset_size, size=size)\n",
    "    rows = np.floor(np.sqrt(size))\n",
    "    cols = np.ceil(size / rows)\n",
    "    \n",
    "    # Plotting each image with its corresponding label\n",
    "    for index, value in enumerate(select):\n",
    "        plt.subplot(rows, cols, index + 1)\n",
    "        plt.axis('off')\n",
    "        plt.imshow(\n",
    "            images[value],\n",
    "            cmap=plt.cm.gray_r,\n",
    "            interpolation=\"nearest\")\n",
    "        plt.title('{}: {}'.format(title, int(label.iloc[value])))\n",
    "\n",
    "    plt.show()"
   ]
  },
  {
   "cell_type": "code",
   "execution_count": 11,
   "metadata": {
    "ExecuteTime": {
     "end_time": "2018-12-30T18:15:13.811611Z",
     "start_time": "2018-12-30T18:14:54.702186Z"
    }
   },
   "outputs": [
    {
     "data": {
      "image/png": "[encoded data removed]",
      "text/plain": [
       "<Figure size 720x720 with 12 Axes>"
      ]
     },
     "metadata": {
      "needs_background": "light"
     },
     "output_type": "display_data"
    }
   ],
   "source": [
    "plot_data(data, label)"
   ]
  },
  {
   "cell_type": "markdown",
   "metadata": {},
   "source": [
    "## Train/Test split and model fitting"
   ]
  },
  {
   "cell_type": "code",
   "execution_count": 12,
   "metadata": {
    "ExecuteTime": {
     "end_time": "2018-12-30T18:16:07.417358Z",
     "start_time": "2018-12-30T18:16:06.884513Z"
    }
   },
   "outputs": [],
   "source": [
    "from sklearn.model_selection import train_test_split\n",
    "\n",
    "X_train, X_test, y_train, y_test = train_test_split(data, label, test_size=0.2)"
   ]
  },
  {
   "cell_type": "markdown",
   "metadata": {},
   "source": [
    "### Utility functions"
   ]
  },
  {
   "cell_type": "code",
   "execution_count": 14,
   "metadata": {
    "ExecuteTime": {
     "end_time": "2018-12-30T18:16:48.362294Z",
     "start_time": "2018-12-30T18:16:48.355777Z"
    }
   },
   "outputs": [],
   "source": [
    "def pretty_print_cm(cm, labels, normalize=False):\n",
    "    \"\"\"pretty print confusion matrices\"\"\"\n",
    "    import seaborn as sns\n",
    "    from sklearn.preprocessing import scale\n",
    "    \n",
    "    title = 'Confusion matrix'\n",
    "    if normalize:\n",
    "        cm = cm.astype('float') / cm.sum(axis=1)[:, np.newaxis]\n",
    "        title = ' '.join(['Normalized', title])\n",
    "    \n",
    "    conf_mat = pd.DataFrame(cm, columns=labels, index=labels)\n",
    "    conf_mat.index.name = 'True \\ Predicted'\n",
    "    ax = sns.heatmap(conf_mat, annot=True, cmap='Blues', fmt='g')\n",
    "    ax.set_xlabel('Predicted')\n",
    "    ax.set_ylabel('True')\n",
    "    ax.set_title(title)\n",
    "    plt.show()"
   ]
  },
  {
   "cell_type": "code",
   "execution_count": 15,
   "metadata": {
    "ExecuteTime": {
     "end_time": "2018-12-30T18:16:55.874301Z",
     "start_time": "2018-12-30T18:16:55.862334Z"
    }
   },
   "outputs": [],
   "source": [
    "def generate_prediction_results(y_true, y_pred):\n",
    "    \"\"\"generate classification report and confusion matrix on a given true and predicted values\"\"\"\n",
    "    from sklearn.metrics import classification_report, confusion_matrix\n",
    "\n",
    "    conf_mat = confusion_matrix(y_true, y_pred)\n",
    "    class_report = classification_report(y_true, y_pred, output_dict=True)\n",
    "    return conf_mat, class_report"
   ]
  },
  {
   "cell_type": "code",
   "execution_count": null,
   "metadata": {
    "ExecuteTime": {
     "end_time": "2018-11-11T22:22:48.937154Z",
     "start_time": "2018-11-11T22:20:37.296Z"
    }
   },
   "outputs": [],
   "source": [
    "test_sample_size = len(y_test)\n",
    "\n",
    "misclass_images_indices = [\n",
    "    index for index in range(test_sample_size)\n",
    "    if not y_test.iloc[index] == predictions[index]\n",
    "]\n",
    "misclass_images = X_test.iloc[misclass_images_indices]\n",
    "predicted_labels = predictions[misclass_images_indices]\n",
    "\n",
    "plot_data(misclass_images, predicted_labels, 'Predicted')"
   ]
  },
  {
   "cell_type": "markdown",
   "metadata": {},
   "source": [
    "## Fitting SVM"
   ]
  },
  {
   "cell_type": "code",
   "execution_count": 16,
   "metadata": {
    "ExecuteTime": {
     "end_time": "2018-12-30T18:20:29.222046Z",
     "start_time": "2018-12-30T18:17:01.214629Z"
    }
   },
   "outputs": [],
   "source": [
    "from sklearn.svm import SVC\n",
    "\n",
    "clf = SVC(gamma='scale')\n",
    "clf.fit(X_train, y_train)\n",
    "SVM_predictions_train = clf.predict(X_train)\n",
    "SVM_predictions_test = clf.predict(X_test)"
   ]
  },
  {
   "cell_type": "markdown",
   "metadata": {},
   "source": [
    "### Training results"
   ]
  },
  {
   "cell_type": "code",
   "execution_count": 19,
   "metadata": {
    "ExecuteTime": {
     "end_time": "2018-12-30T18:21:01.537208Z",
     "start_time": "2018-12-30T18:21:01.508688Z"
    }
   },
   "outputs": [],
   "source": [
    "SVM_confusion_matrix_train, SVM_classification_report_train = generate_prediction_results(\n",
    "    y_train, SVM_predictions_train)"
   ]
  },
  {
   "cell_type": "code",
   "execution_count": 20,
   "metadata": {
    "ExecuteTime": {
     "end_time": "2018-12-30T18:21:03.359908Z",
     "start_time": "2018-12-30T18:21:02.437511Z"
    }
   },
   "outputs": [
    {
     "data": {
      "image/png": "[encoded data removed]",
      "text/plain": [
       "<Figure size 720x720 with 2 Axes>"
      ]
     },
     "metadata": {
      "needs_background": "light"
     },
     "output_type": "display_data"
    }
   ],
   "source": [
    "# Confusion matrix\n",
    "labels = [0, 1, 2, 3, 4, 5, 6, 7, 8, 9]\n",
    "pretty_print_cm(SVM_confusion_matrix_train, labels)"
   ]
  },
  {
   "cell_type": "code",
   "execution_count": 21,
   "metadata": {
    "ExecuteTime": {
     "end_time": "2018-12-30T18:21:11.375657Z",
     "start_time": "2018-12-30T18:21:11.353034Z"
    }
   },
   "outputs": [
    {
     "data": {
      "text/html": [
       "<div>\n",
       "<style scoped>\n",
       "    .dataframe tbody tr th:only-of-type {\n",
       "        vertical-align: middle;\n",
       "    }\n",
       "\n",
       "    .dataframe tbody tr th {\n",
       "        vertical-align: top;\n",
       "    }\n",
       "\n",
       "    .dataframe thead th {\n",
       "        text-align: right;\n",
       "    }\n",
       "</style>\n",
       "<table border=\"1\" class=\"dataframe\">\n",
       "  <thead>\n",
       "    <tr style=\"text-align: right;\">\n",
       "      <th></th>\n",
       "      <th>0</th>\n",
       "      <th>1</th>\n",
       "      <th>2</th>\n",
       "      <th>3</th>\n",
       "      <th>4</th>\n",
       "      <th>5</th>\n",
       "      <th>6</th>\n",
       "      <th>7</th>\n",
       "      <th>8</th>\n",
       "      <th>9</th>\n",
       "      <th>macro avg</th>\n",
       "      <th>micro avg</th>\n",
       "      <th>weighted avg</th>\n",
       "    </tr>\n",
       "  </thead>\n",
       "  <tbody>\n",
       "    <tr>\n",
       "      <th>f1-score</th>\n",
       "      <td>1.0</td>\n",
       "      <td>1.0</td>\n",
       "      <td>1.0</td>\n",
       "      <td>1.0</td>\n",
       "      <td>1.0</td>\n",
       "      <td>1.0</td>\n",
       "      <td>1.0</td>\n",
       "      <td>1.0</td>\n",
       "      <td>1.0</td>\n",
       "      <td>1.0</td>\n",
       "      <td>1.0</td>\n",
       "      <td>1.0</td>\n",
       "      <td>1.0</td>\n",
       "    </tr>\n",
       "    <tr>\n",
       "      <th>precision</th>\n",
       "      <td>1.0</td>\n",
       "      <td>1.0</td>\n",
       "      <td>1.0</td>\n",
       "      <td>1.0</td>\n",
       "      <td>1.0</td>\n",
       "      <td>1.0</td>\n",
       "      <td>1.0</td>\n",
       "      <td>1.0</td>\n",
       "      <td>1.0</td>\n",
       "      <td>1.0</td>\n",
       "      <td>1.0</td>\n",
       "      <td>1.0</td>\n",
       "      <td>1.0</td>\n",
       "    </tr>\n",
       "    <tr>\n",
       "      <th>recall</th>\n",
       "      <td>1.0</td>\n",
       "      <td>1.0</td>\n",
       "      <td>1.0</td>\n",
       "      <td>1.0</td>\n",
       "      <td>1.0</td>\n",
       "      <td>1.0</td>\n",
       "      <td>1.0</td>\n",
       "      <td>1.0</td>\n",
       "      <td>1.0</td>\n",
       "      <td>1.0</td>\n",
       "      <td>1.0</td>\n",
       "      <td>1.0</td>\n",
       "      <td>1.0</td>\n",
       "    </tr>\n",
       "    <tr>\n",
       "      <th>support</th>\n",
       "      <td>787.0</td>\n",
       "      <td>889.0</td>\n",
       "      <td>771.0</td>\n",
       "      <td>828.0</td>\n",
       "      <td>785.0</td>\n",
       "      <td>731.0</td>\n",
       "      <td>770.0</td>\n",
       "      <td>837.0</td>\n",
       "      <td>779.0</td>\n",
       "      <td>823.0</td>\n",
       "      <td>8000.0</td>\n",
       "      <td>8000.0</td>\n",
       "      <td>8000.0</td>\n",
       "    </tr>\n",
       "  </tbody>\n",
       "</table>\n",
       "</div>"
      ],
      "text/plain": [
       "               0      1      2      3      4      5      6      7      8  \\\n",
       "f1-score     1.0    1.0    1.0    1.0    1.0    1.0    1.0    1.0    1.0   \n",
       "precision    1.0    1.0    1.0    1.0    1.0    1.0    1.0    1.0    1.0   \n",
       "recall       1.0    1.0    1.0    1.0    1.0    1.0    1.0    1.0    1.0   \n",
       "support    787.0  889.0  771.0  828.0  785.0  731.0  770.0  837.0  779.0   \n",
       "\n",
       "               9  macro avg  micro avg  weighted avg  \n",
       "f1-score     1.0        1.0        1.0           1.0  \n",
       "precision    1.0        1.0        1.0           1.0  \n",
       "recall       1.0        1.0        1.0           1.0  \n",
       "support    823.0     8000.0     8000.0        8000.0  "
      ]
     },
     "execution_count": 21,
     "metadata": {},
     "output_type": "execute_result"
    }
   ],
   "source": [
    "# Classification report\n",
    "pd.DataFrame(SVM_classification_report_train)"
   ]
  },
  {
   "cell_type": "markdown",
   "metadata": {},
   "source": [
    "### Testing results"
   ]
  },
  {
   "cell_type": "code",
   "execution_count": 22,
   "metadata": {
    "ExecuteTime": {
     "end_time": "2018-12-30T18:21:31.425719Z",
     "start_time": "2018-12-30T18:21:31.409973Z"
    }
   },
   "outputs": [
    {
     "name": "stderr",
     "output_type": "stream",
     "text": [
      "/home/whitenoise/anaconda3/lib/python3.5/site-packages/sklearn/metrics/classification.py:1143: UndefinedMetricWarning: Precision and F-score are ill-defined and being set to 0.0 in labels with no predicted samples.\n",
      "  'precision', 'predicted', average, warn_for)\n",
      "/home/whitenoise/anaconda3/lib/python3.5/site-packages/sklearn/metrics/classification.py:1143: UndefinedMetricWarning: Precision and F-score are ill-defined and being set to 0.0 in labels with no predicted samples.\n",
      "  'precision', 'predicted', average, warn_for)\n",
      "/home/whitenoise/anaconda3/lib/python3.5/site-packages/sklearn/metrics/classification.py:1143: UndefinedMetricWarning: Precision and F-score are ill-defined and being set to 0.0 in labels with no predicted samples.\n",
      "  'precision', 'predicted', average, warn_for)\n"
     ]
    }
   ],
   "source": [
    "SVM_confusion_matrix_test, SVM_classification_report_test = generate_prediction_results(y_test, SVM_predictions_test)"
   ]
  },
  {
   "cell_type": "code",
   "execution_count": 23,
   "metadata": {
    "ExecuteTime": {
     "end_time": "2018-12-30T18:21:33.500330Z",
     "start_time": "2018-12-30T18:21:32.551449Z"
    }
   },
   "outputs": [
    {
     "data": {
      "image/png": "[encoded data removed]",
      "text/plain": [
       "<Figure size 720x720 with 2 Axes>"
      ]
     },
     "metadata": {
      "needs_background": "light"
     },
     "output_type": "display_data"
    }
   ],
   "source": [
    "# Confusion matrix\n",
    "labels = [0, 1, 2, 3, 4, 5, 6, 7, 8, 9]\n",
    "pretty_print_cm(SVM_confusion_matrix_test, labels)"
   ]
  },
  {
   "cell_type": "code",
   "execution_count": 24,
   "metadata": {
    "ExecuteTime": {
     "end_time": "2018-12-30T18:21:36.901550Z",
     "start_time": "2018-12-30T18:21:36.871074Z"
    }
   },
   "outputs": [
    {
     "data": {
      "text/html": [
       "<div>\n",
       "<style scoped>\n",
       "    .dataframe tbody tr th:only-of-type {\n",
       "        vertical-align: middle;\n",
       "    }\n",
       "\n",
       "    .dataframe tbody tr th {\n",
       "        vertical-align: top;\n",
       "    }\n",
       "\n",
       "    .dataframe thead th {\n",
       "        text-align: right;\n",
       "    }\n",
       "</style>\n",
       "<table border=\"1\" class=\"dataframe\">\n",
       "  <thead>\n",
       "    <tr style=\"text-align: right;\">\n",
       "      <th></th>\n",
       "      <th>0</th>\n",
       "      <th>1</th>\n",
       "      <th>2</th>\n",
       "      <th>3</th>\n",
       "      <th>4</th>\n",
       "      <th>5</th>\n",
       "      <th>6</th>\n",
       "      <th>7</th>\n",
       "      <th>8</th>\n",
       "      <th>9</th>\n",
       "      <th>macro avg</th>\n",
       "      <th>micro avg</th>\n",
       "      <th>weighted avg</th>\n",
       "    </tr>\n",
       "  </thead>\n",
       "  <tbody>\n",
       "    <tr>\n",
       "      <th>f1-score</th>\n",
       "      <td>0.0</td>\n",
       "      <td>0.892523</td>\n",
       "      <td>0.0</td>\n",
       "      <td>0.0</td>\n",
       "      <td>0.0</td>\n",
       "      <td>0.0</td>\n",
       "      <td>0.0</td>\n",
       "      <td>0.231672</td>\n",
       "      <td>0.0</td>\n",
       "      <td>0.0</td>\n",
       "      <td>0.112419</td>\n",
       "      <td>0.214</td>\n",
       "      <td>0.133217</td>\n",
       "    </tr>\n",
       "    <tr>\n",
       "      <th>precision</th>\n",
       "      <td>0.0</td>\n",
       "      <td>1.000000</td>\n",
       "      <td>0.0</td>\n",
       "      <td>0.0</td>\n",
       "      <td>0.0</td>\n",
       "      <td>0.0</td>\n",
       "      <td>0.0</td>\n",
       "      <td>0.131012</td>\n",
       "      <td>0.0</td>\n",
       "      <td>0.0</td>\n",
       "      <td>0.113101</td>\n",
       "      <td>0.214</td>\n",
       "      <td>0.134025</td>\n",
       "    </tr>\n",
       "    <tr>\n",
       "      <th>recall</th>\n",
       "      <td>0.0</td>\n",
       "      <td>0.805907</td>\n",
       "      <td>0.0</td>\n",
       "      <td>0.0</td>\n",
       "      <td>0.0</td>\n",
       "      <td>0.0</td>\n",
       "      <td>0.0</td>\n",
       "      <td>1.000000</td>\n",
       "      <td>0.0</td>\n",
       "      <td>0.0</td>\n",
       "      <td>0.180591</td>\n",
       "      <td>0.214</td>\n",
       "      <td>0.214000</td>\n",
       "    </tr>\n",
       "    <tr>\n",
       "      <th>support</th>\n",
       "      <td>209.0</td>\n",
       "      <td>237.000000</td>\n",
       "      <td>204.0</td>\n",
       "      <td>209.0</td>\n",
       "      <td>191.0</td>\n",
       "      <td>157.0</td>\n",
       "      <td>196.0</td>\n",
       "      <td>237.000000</td>\n",
       "      <td>179.0</td>\n",
       "      <td>181.0</td>\n",
       "      <td>2000.000000</td>\n",
       "      <td>2000.000</td>\n",
       "      <td>2000.000000</td>\n",
       "    </tr>\n",
       "  </tbody>\n",
       "</table>\n",
       "</div>"
      ],
      "text/plain": [
       "               0           1      2      3      4      5      6           7  \\\n",
       "f1-score     0.0    0.892523    0.0    0.0    0.0    0.0    0.0    0.231672   \n",
       "precision    0.0    1.000000    0.0    0.0    0.0    0.0    0.0    0.131012   \n",
       "recall       0.0    0.805907    0.0    0.0    0.0    0.0    0.0    1.000000   \n",
       "support    209.0  237.000000  204.0  209.0  191.0  157.0  196.0  237.000000   \n",
       "\n",
       "               8      9    macro avg  micro avg  weighted avg  \n",
       "f1-score     0.0    0.0     0.112419      0.214      0.133217  \n",
       "precision    0.0    0.0     0.113101      0.214      0.134025  \n",
       "recall       0.0    0.0     0.180591      0.214      0.214000  \n",
       "support    179.0  181.0  2000.000000   2000.000   2000.000000  "
      ]
     },
     "execution_count": 24,
     "metadata": {},
     "output_type": "execute_result"
    }
   ],
   "source": [
    "pd.DataFrame(SVM_classification_report_test)"
   ]
  },
  {
   "cell_type": "markdown",
   "metadata": {},
   "source": [
    "<p>The SVM has performed poorly. It has overfitted the training set. We're going to fit in the next paragraph an ordinary Neural Net and compare the results.</p>"
   ]
  },
  {
   "cell_type": "markdown",
   "metadata": {},
   "source": [
    "## Fitting NNet"
   ]
  },
  {
   "cell_type": "code",
   "execution_count": 25,
   "metadata": {
    "ExecuteTime": {
     "end_time": "2018-12-30T18:21:49.553979Z",
     "start_time": "2018-12-30T18:21:41.199854Z"
    }
   },
   "outputs": [],
   "source": [
    "from sklearn.neural_network import MLPClassifier\n",
    "\n",
    "clf = MLPClassifier()\n",
    "clf.fit(X_train, y_train)\n",
    "MLP_predictions_train = clf.predict(X_train)\n",
    "MLP_predictions_test = clf.predict(X_test)"
   ]
  },
  {
   "cell_type": "markdown",
   "metadata": {},
   "source": [
    "### Training results"
   ]
  },
  {
   "cell_type": "code",
   "execution_count": 26,
   "metadata": {
    "ExecuteTime": {
     "end_time": "2018-12-30T18:22:00.482722Z",
     "start_time": "2018-12-30T18:22:00.451995Z"
    }
   },
   "outputs": [],
   "source": [
    "MLP_confusion_matrix_train, MLP_classification_report_train = generate_prediction_results(\n",
    "    y_train, MLP_predictions_train)"
   ]
  },
  {
   "cell_type": "code",
   "execution_count": 27,
   "metadata": {
    "ExecuteTime": {
     "end_time": "2018-12-30T18:22:01.859822Z",
     "start_time": "2018-12-30T18:22:00.952930Z"
    }
   },
   "outputs": [
    {
     "data": {
      "image/png": "[encoded data removed]",
      "text/plain": [
       "<Figure size 720x720 with 2 Axes>"
      ]
     },
     "metadata": {
      "needs_background": "light"
     },
     "output_type": "display_data"
    }
   ],
   "source": [
    "# Confusion matrix\n",
    "labels = [0, 1, 2, 3, 4, 5, 6, 7, 8, 9]\n",
    "pretty_print_cm(MLP_confusion_matrix_train, labels)"
   ]
  },
  {
   "cell_type": "code",
   "execution_count": 28,
   "metadata": {
    "ExecuteTime": {
     "end_time": "2018-12-30T18:22:05.476363Z",
     "start_time": "2018-12-30T18:22:05.444583Z"
    }
   },
   "outputs": [
    {
     "data": {
      "text/html": [
       "<div>\n",
       "<style scoped>\n",
       "    .dataframe tbody tr th:only-of-type {\n",
       "        vertical-align: middle;\n",
       "    }\n",
       "\n",
       "    .dataframe tbody tr th {\n",
       "        vertical-align: top;\n",
       "    }\n",
       "\n",
       "    .dataframe thead th {\n",
       "        text-align: right;\n",
       "    }\n",
       "</style>\n",
       "<table border=\"1\" class=\"dataframe\">\n",
       "  <thead>\n",
       "    <tr style=\"text-align: right;\">\n",
       "      <th></th>\n",
       "      <th>0</th>\n",
       "      <th>1</th>\n",
       "      <th>2</th>\n",
       "      <th>3</th>\n",
       "      <th>4</th>\n",
       "      <th>5</th>\n",
       "      <th>6</th>\n",
       "      <th>7</th>\n",
       "      <th>8</th>\n",
       "      <th>9</th>\n",
       "      <th>macro avg</th>\n",
       "      <th>micro avg</th>\n",
       "      <th>weighted avg</th>\n",
       "    </tr>\n",
       "  </thead>\n",
       "  <tbody>\n",
       "    <tr>\n",
       "      <th>f1-score</th>\n",
       "      <td>0.995533</td>\n",
       "      <td>0.999437</td>\n",
       "      <td>0.995446</td>\n",
       "      <td>0.996390</td>\n",
       "      <td>0.996825</td>\n",
       "      <td>0.991065</td>\n",
       "      <td>0.993532</td>\n",
       "      <td>0.997011</td>\n",
       "      <td>0.992944</td>\n",
       "      <td>0.995755</td>\n",
       "      <td>0.995394</td>\n",
       "      <td>0.9955</td>\n",
       "      <td>0.995498</td>\n",
       "    </tr>\n",
       "    <tr>\n",
       "      <th>precision</th>\n",
       "      <td>1.000000</td>\n",
       "      <td>1.000000</td>\n",
       "      <td>0.998695</td>\n",
       "      <td>0.992806</td>\n",
       "      <td>0.993671</td>\n",
       "      <td>0.995856</td>\n",
       "      <td>0.989691</td>\n",
       "      <td>0.997608</td>\n",
       "      <td>0.992308</td>\n",
       "      <td>0.993947</td>\n",
       "      <td>0.995458</td>\n",
       "      <td>0.9955</td>\n",
       "      <td>0.995516</td>\n",
       "    </tr>\n",
       "    <tr>\n",
       "      <th>recall</th>\n",
       "      <td>0.991105</td>\n",
       "      <td>0.998875</td>\n",
       "      <td>0.992218</td>\n",
       "      <td>1.000000</td>\n",
       "      <td>1.000000</td>\n",
       "      <td>0.986320</td>\n",
       "      <td>0.997403</td>\n",
       "      <td>0.996416</td>\n",
       "      <td>0.993582</td>\n",
       "      <td>0.997570</td>\n",
       "      <td>0.995349</td>\n",
       "      <td>0.9955</td>\n",
       "      <td>0.995500</td>\n",
       "    </tr>\n",
       "    <tr>\n",
       "      <th>support</th>\n",
       "      <td>787.000000</td>\n",
       "      <td>889.000000</td>\n",
       "      <td>771.000000</td>\n",
       "      <td>828.000000</td>\n",
       "      <td>785.000000</td>\n",
       "      <td>731.000000</td>\n",
       "      <td>770.000000</td>\n",
       "      <td>837.000000</td>\n",
       "      <td>779.000000</td>\n",
       "      <td>823.000000</td>\n",
       "      <td>8000.000000</td>\n",
       "      <td>8000.0000</td>\n",
       "      <td>8000.000000</td>\n",
       "    </tr>\n",
       "  </tbody>\n",
       "</table>\n",
       "</div>"
      ],
      "text/plain": [
       "                    0           1           2           3           4  \\\n",
       "f1-score     0.995533    0.999437    0.995446    0.996390    0.996825   \n",
       "precision    1.000000    1.000000    0.998695    0.992806    0.993671   \n",
       "recall       0.991105    0.998875    0.992218    1.000000    1.000000   \n",
       "support    787.000000  889.000000  771.000000  828.000000  785.000000   \n",
       "\n",
       "                    5           6           7           8           9  \\\n",
       "f1-score     0.991065    0.993532    0.997011    0.992944    0.995755   \n",
       "precision    0.995856    0.989691    0.997608    0.992308    0.993947   \n",
       "recall       0.986320    0.997403    0.996416    0.993582    0.997570   \n",
       "support    731.000000  770.000000  837.000000  779.000000  823.000000   \n",
       "\n",
       "             macro avg  micro avg  weighted avg  \n",
       "f1-score      0.995394     0.9955      0.995498  \n",
       "precision     0.995458     0.9955      0.995516  \n",
       "recall        0.995349     0.9955      0.995500  \n",
       "support    8000.000000  8000.0000   8000.000000  "
      ]
     },
     "execution_count": 28,
     "metadata": {},
     "output_type": "execute_result"
    }
   ],
   "source": [
    "# Classification report\n",
    "pd.DataFrame(MLP_classification_report_train)"
   ]
  },
  {
   "cell_type": "markdown",
   "metadata": {},
   "source": [
    "### Testing results"
   ]
  },
  {
   "cell_type": "code",
   "execution_count": 29,
   "metadata": {
    "ExecuteTime": {
     "end_time": "2018-12-30T18:22:14.853827Z",
     "start_time": "2018-12-30T18:22:14.842603Z"
    }
   },
   "outputs": [],
   "source": [
    "MLP_confusion_matrix_test, MLP_classification_report_test = generate_prediction_results(\n",
    "    y_test, MLP_predictions_test)"
   ]
  },
  {
   "cell_type": "code",
   "execution_count": null,
   "metadata": {
    "ExecuteTime": {
     "start_time": "2018-12-30T18:22:15.600Z"
    }
   },
   "outputs": [],
   "source": [
    "# Confusion matrix\n",
    "labels = [0, 1, 2, 3, 4, 5, 6, 7, 8, 9]\n",
    "pretty_print_cm(MLP_confusion_matrix_test, labels)"
   ]
  },
  {
   "cell_type": "code",
   "execution_count": 67,
   "metadata": {
    "ExecuteTime": {
     "end_time": "2018-12-30T18:05:42.090525Z",
     "start_time": "2018-12-30T18:05:42.068131Z"
    }
   },
   "outputs": [
    {
     "data": {
      "text/html": [
       "<div>\n",
       "<style scoped>\n",
       "    .dataframe tbody tr th:only-of-type {\n",
       "        vertical-align: middle;\n",
       "    }\n",
       "\n",
       "    .dataframe tbody tr th {\n",
       "        vertical-align: top;\n",
       "    }\n",
       "\n",
       "    .dataframe thead th {\n",
       "        text-align: right;\n",
       "    }\n",
       "</style>\n",
       "<table border=\"1\" class=\"dataframe\">\n",
       "  <thead>\n",
       "    <tr style=\"text-align: right;\">\n",
       "      <th></th>\n",
       "      <th>0</th>\n",
       "      <th>1</th>\n",
       "      <th>2</th>\n",
       "      <th>3</th>\n",
       "      <th>4</th>\n",
       "      <th>5</th>\n",
       "      <th>6</th>\n",
       "      <th>7</th>\n",
       "      <th>8</th>\n",
       "      <th>9</th>\n",
       "      <th>macro avg</th>\n",
       "      <th>micro avg</th>\n",
       "      <th>weighted avg</th>\n",
       "    </tr>\n",
       "  </thead>\n",
       "  <tbody>\n",
       "    <tr>\n",
       "      <th>f1-score</th>\n",
       "      <td>0.963325</td>\n",
       "      <td>0.961864</td>\n",
       "      <td>0.931442</td>\n",
       "      <td>0.905660</td>\n",
       "      <td>0.908163</td>\n",
       "      <td>0.897507</td>\n",
       "      <td>0.952646</td>\n",
       "      <td>0.933985</td>\n",
       "      <td>0.857939</td>\n",
       "      <td>0.877551</td>\n",
       "      <td>0.919008</td>\n",
       "      <td>0.9205</td>\n",
       "      <td>0.920314</td>\n",
       "    </tr>\n",
       "    <tr>\n",
       "      <th>precision</th>\n",
       "      <td>0.960976</td>\n",
       "      <td>0.961864</td>\n",
       "      <td>0.933649</td>\n",
       "      <td>0.914286</td>\n",
       "      <td>0.885572</td>\n",
       "      <td>0.890110</td>\n",
       "      <td>0.955307</td>\n",
       "      <td>0.918269</td>\n",
       "      <td>0.875000</td>\n",
       "      <td>0.895833</td>\n",
       "      <td>0.919087</td>\n",
       "      <td>0.9205</td>\n",
       "      <td>0.920461</td>\n",
       "    </tr>\n",
       "    <tr>\n",
       "      <th>recall</th>\n",
       "      <td>0.965686</td>\n",
       "      <td>0.961864</td>\n",
       "      <td>0.929245</td>\n",
       "      <td>0.897196</td>\n",
       "      <td>0.931937</td>\n",
       "      <td>0.905028</td>\n",
       "      <td>0.950000</td>\n",
       "      <td>0.950249</td>\n",
       "      <td>0.841530</td>\n",
       "      <td>0.860000</td>\n",
       "      <td>0.919274</td>\n",
       "      <td>0.9205</td>\n",
       "      <td>0.920500</td>\n",
       "    </tr>\n",
       "    <tr>\n",
       "      <th>support</th>\n",
       "      <td>204.000000</td>\n",
       "      <td>236.000000</td>\n",
       "      <td>212.000000</td>\n",
       "      <td>214.000000</td>\n",
       "      <td>191.000000</td>\n",
       "      <td>179.000000</td>\n",
       "      <td>180.000000</td>\n",
       "      <td>201.000000</td>\n",
       "      <td>183.000000</td>\n",
       "      <td>200.000000</td>\n",
       "      <td>2000.000000</td>\n",
       "      <td>2000.0000</td>\n",
       "      <td>2000.000000</td>\n",
       "    </tr>\n",
       "  </tbody>\n",
       "</table>\n",
       "</div>"
      ],
      "text/plain": [
       "                    0           1           2           3           4  \\\n",
       "f1-score     0.963325    0.961864    0.931442    0.905660    0.908163   \n",
       "precision    0.960976    0.961864    0.933649    0.914286    0.885572   \n",
       "recall       0.965686    0.961864    0.929245    0.897196    0.931937   \n",
       "support    204.000000  236.000000  212.000000  214.000000  191.000000   \n",
       "\n",
       "                    5           6           7           8           9  \\\n",
       "f1-score     0.897507    0.952646    0.933985    0.857939    0.877551   \n",
       "precision    0.890110    0.955307    0.918269    0.875000    0.895833   \n",
       "recall       0.905028    0.950000    0.950249    0.841530    0.860000   \n",
       "support    179.000000  180.000000  201.000000  183.000000  200.000000   \n",
       "\n",
       "             macro avg  micro avg  weighted avg  \n",
       "f1-score      0.919008     0.9205      0.920314  \n",
       "precision     0.919087     0.9205      0.920461  \n",
       "recall        0.919274     0.9205      0.920500  \n",
       "support    2000.000000  2000.0000   2000.000000  "
      ]
     },
     "execution_count": 67,
     "metadata": {},
     "output_type": "execute_result"
    }
   ],
   "source": [
    "# Classification report\n",
    "pd.DataFrame(MLP_classification_report_test)"
   ]
  },
  {
   "cell_type": "markdown",
   "metadata": {},
   "source": [
    "<p>The ordinary NNet has performed better than the SVM.</p>"
   ]
  },
  {
   "cell_type": "code",
   "execution_count": null,
   "metadata": {},
   "outputs": [],
   "source": []
  }
 ],
 "metadata": {
  "kernelspec": {
   "display_name": "Python 3",
   "language": "python",
   "name": "python3"
  },
  "language_info": {
   "codemirror_mode": {
    "name": "ipython",
    "version": 3
   },
   "file_extension": ".py",
   "mimetype": "text/x-python",
   "name": "python",
   "nbconvert_exporter": "python",
   "pygments_lexer": "ipython3",
   "version": "3.5.6"
  },
  "varInspector": {
   "cols": {
    "lenName": 16,
    "lenType": 16,
    "lenVar": 40
   },
   "kernels_config": {
    "python": {
     "delete_cmd_postfix": "",
     "delete_cmd_prefix": "del ",
     "library": "var_list.py",
     "varRefreshCmd": "print(var_dic_list())"
    },
    "r": {
     "delete_cmd_postfix": ") ",
     "delete_cmd_prefix": "rm(",
     "library": "var_list.r",
     "varRefreshCmd": "cat(var_dic_list()) "
    }
   },
   "types_to_exclude": [
    "module",
    "function",
    "builtin_function_or_method",
    "instance",
    "_Feature"
   ],
   "window_display": false
  }
 },
 "nbformat": 4,
 "nbformat_minor": 2
}
